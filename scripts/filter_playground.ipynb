{
 "cells": [
  {
   "cell_type": "code",
   "execution_count": 1,
   "metadata": {},
   "outputs": [],
   "source": [
    "%load_ext autoreload\n",
    "%autoreload 2\n"
   ]
  },
  {
   "cell_type": "code",
   "execution_count": 2,
   "metadata": {},
   "outputs": [],
   "source": [
    "target_response_path = \"/data/mouse/dynamic21608-2-18-Video-b448915027fa4aa145acc0c00199ff15/responses\""
   ]
  },
  {
   "cell_type": "code",
   "execution_count": 24,
   "metadata": {},
   "outputs": [],
   "source": [
    "from pathlib import Path\n",
    "import yaml\n",
    "import numpy as np\n",
    "from experanto.intervals import TimeInterval\n",
    "\n",
    "# Convert string path to Path object\n",
    "target_response_path = Path(target_response_path)\n",
    "\n",
    "meta = yaml.safe_load((target_response_path / \"meta.yml\").open(\"r\"))\n",
    "\n",
    "start_time = meta[\"start_time\"]\n",
    "end_time = meta[\"end_time\"]\n",
    "use_phase_shifts = meta[\"phase_shift_per_signal\"]\n",
    "\n",
    "if meta[\"phase_shift_per_signal\"]:\n",
    "    phase_shifts = np.load(target_response_path / \"meta/phase_shifts.npy\")\n",
    "    valid_interval = TimeInterval(\n",
    "        start_time + np.max(phase_shifts),\n",
    "        end_time + np.min(phase_shifts),\n",
    "    )\n",
    "n_signals = meta[\"n_signals\"]\n",
    "\n",
    "# read .npy or .mem (memmap) file\n",
    "if (target_response_path / \"data.npy\").exists():\n",
    "    data = np.load(target_response_path / \"data.npy\")\n",
    "else:\n",
    "    data = np.memmap(\n",
    "        target_response_path / \"data.mem\",\n",
    "        dtype=meta[\"dtype\"],\n",
    "        mode=\"r\",\n",
    "        shape=(meta[\"n_timestamps\"], meta[\"n_signals\"]),\n",
    "    )\n",
    "    data = np.array(data)\n",
    "\n",
    "mean = np.load(target_response_path / \"meta/means.npy\")\n",
    "std = np.load(target_response_path / \"meta/stds.npy\")\n",
    "\n",
    "data_normalized = (data - mean) / std\n"
   ]
  },
  {
   "cell_type": "code",
   "execution_count": 25,
   "metadata": {},
   "outputs": [
    {
     "data": {
      "text/plain": [
       "(52689, 7269)"
      ]
     },
     "execution_count": 25,
     "metadata": {},
     "output_type": "execute_result"
    }
   ],
   "source": [
    "data_normalized.shape"
   ]
  },
  {
   "cell_type": "code",
   "execution_count": 22,
   "metadata": {},
   "outputs": [
    {
     "data": {
      "text/plain": [
       "(1, 7269)"
      ]
     },
     "execution_count": 22,
     "metadata": {},
     "output_type": "execute_result"
    }
   ],
   "source": [
    "mean.shape"
   ]
  },
  {
   "cell_type": "code",
   "execution_count": 23,
   "metadata": {},
   "outputs": [
    {
     "data": {
      "text/plain": [
       "(1, 7269)"
      ]
     },
     "execution_count": 23,
     "metadata": {},
     "output_type": "execute_result"
    }
   ],
   "source": [
    "std.shape"
   ]
  },
  {
   "cell_type": "code",
   "execution_count": 7,
   "metadata": {},
   "outputs": [
    {
     "data": {
      "text/plain": [
       "1556056322.2848358"
      ]
     },
     "execution_count": 7,
     "metadata": {},
     "output_type": "execute_result"
    }
   ],
   "source": [
    "start_time"
   ]
  },
  {
   "cell_type": "code",
   "execution_count": 10,
   "metadata": {},
   "outputs": [],
   "source": [
    "T = (end_time - start_time) / meta[\"n_timestamps\"]"
   ]
  },
  {
   "cell_type": "code",
   "execution_count": 11,
   "metadata": {},
   "outputs": [
    {
     "data": {
      "text/plain": [
       "8.08073429295768"
      ]
     },
     "execution_count": 11,
     "metadata": {},
     "output_type": "execute_result"
    }
   ],
   "source": [
    "1/T"
   ]
  },
  {
   "cell_type": "code",
   "execution_count": 6,
   "metadata": {},
   "outputs": [
    {
     "data": {
      "text/plain": [
       "(52689, 7269)"
      ]
     },
     "execution_count": 6,
     "metadata": {},
     "output_type": "execute_result"
    }
   ],
   "source": [
    "data.shape"
   ]
  },
  {
   "cell_type": "code",
   "execution_count": 18,
   "metadata": {},
   "outputs": [
    {
     "name": "stdout",
     "output_type": "stream",
     "text": [
      "1302.3135986328125\n"
     ]
    }
   ],
   "source": [
    "print(np.max(data))"
   ]
  },
  {
   "cell_type": "code",
   "execution_count": 19,
   "metadata": {},
   "outputs": [
    {
     "name": "stdout",
     "output_type": "stream",
     "text": [
      "-5.3607585925874446e-08\n"
     ]
    }
   ],
   "source": [
    "print(np.min(data))"
   ]
  },
  {
   "cell_type": "code",
   "execution_count": 29,
   "metadata": {},
   "outputs": [
    {
     "name": "stdout",
     "output_type": "stream",
     "text": [
      "130.67834571871722\n",
      "-0.18673971476923687\n",
      "-0.08909463042537008\n",
      "0.7270745956055965\n"
     ]
    }
   ],
   "source": [
    "print(np.max(data_normalized))\n",
    "print(np.min(data_normalized))\n",
    "print(np.mean(data_normalized))\n",
    "print(np.std(data_normalized))\n"
   ]
  },
  {
   "cell_type": "code",
   "execution_count": 26,
   "metadata": {},
   "outputs": [
    {
     "data": {
      "text/plain": [
       "<matplotlib.image.AxesImage at 0x7f9b96f55e40>"
      ]
     },
     "execution_count": 26,
     "metadata": {},
     "output_type": "execute_result"
    },
    {
     "data": {
      "image/png": "[encoded data removed]",
      "text/plain": [
       "<Figure size 640x480 with 1 Axes>"
      ]
     },
     "metadata": {},
     "output_type": "display_data"
    }
   ],
   "source": [
    "import matplotlib.pyplot as plt\n",
    "plt.imshow(data_normalized[:100, :100])"
   ]
  },
  {
   "cell_type": "code",
   "execution_count": null,
   "metadata": {},
   "outputs": [],
   "source": []
  }
 ],
 "metadata": {
  "kernelspec": {
   "display_name": "Python 3 (ipykernel)",
   "language": "python",
   "name": "python3"
  }
 },
 "nbformat": 4,
 "nbformat_minor": 2
}
