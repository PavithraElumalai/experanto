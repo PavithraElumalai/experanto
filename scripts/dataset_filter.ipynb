{
 "cells": [
  {
   "cell_type": "code",
   "execution_count": 2,
   "metadata": {},
   "outputs": [
    {
     "name": "stdout",
     "output_type": "stream",
     "text": [
      "The autoreload extension is already loaded. To reload it, use:\n",
      "  %reload_ext autoreload\n",
      "/src/code/Enigma/Libraries/PRS/tensorfabrik\n"
     ]
    }
   ],
   "source": [
    "%load_ext autoreload\n",
    "%autoreload 2\n",
    "import numpy as np\n",
    "import json\n",
    "\n",
    "import os\n",
    "print(os.getcwd())\n",
    "os.chdir(\"/src/code/Enigma/Libraries/PRS/tensorfabrik\")"
   ]
  },
  {
   "cell_type": "code",
   "execution_count": 3,
   "metadata": {},
   "outputs": [],
   "source": [
    "# data_path = \"/data/mouse/dynamic27468-6-9-Video-b448915027fa4aa145acc0c00199ff15\"\n",
    "data_path = \"dynamic29156-11-10-Video-8a2a991e21dab2348d145f2fffa6bad1\""
   ]
  },
  {
   "cell_type": "code",
   "execution_count": 4,
   "metadata": {},
   "outputs": [],
   "source": [
    "from experanto.configs import DEFAULT_CONFIG as cfg\n"
   ]
  },
  {
   "cell_type": "code",
   "execution_count": 5,
   "metadata": {},
   "outputs": [
    {
     "data": {
      "text/plain": [
       "{'screen': {'keep_nans': False, 'sampling_rate': 30, 'chunk_size': 60, 'valid_condition': {'tier': 'train'}, 'offset': 0, 'sample_stride': 1, 'include_blanks': True, 'transforms': {'normalization': 'screen_default'}, 'interpolation': {'rescale': True, 'rescale_size': [36, 64]}}, 'responses': {'keep_nans': False, 'sampling_rate': 8, 'chunk_size': 16, 'offset': 0.0, 'transforms': {'normalization': 'recompute_responses'}, 'interpolation': {'interpolation_mode': 'nearest_neighbor'}, 'filters': {'nan_filter': {'__target__': 'experanto.filters.common_filters.nan_filter', '__partial__': True, 'vicinity': 0.05}}}, 'eye_tracker': {'keep_nans': False, 'sampling_rate': 30, 'chunk_size': 60, 'offset': 0, 'transforms': {'normalization': 'recompute_behavior'}, 'interpolation': {'interpolation_mode': 'nearest_neighbor'}, 'filters': {'nan_filter': {'__target__': 'experanto.filters.common_filters.nan_filter', '__partial__': True, 'vicinity': 0.05}}}, 'treadmill': {'keep_nans': False, 'sampling_rate': 30, 'chunk_size': 60, 'offset': 0, 'transforms': {'normalization': 'recompute_behavior'}, 'interpolation': {'interpolation_mode': 'nearest_neighbor'}, 'filters': {'nan_filter': {'__target__': 'experanto.filters.common_filters.nan_filter', '__partial__': True, 'vicinity': 0.05}}}}"
      ]
     },
     "execution_count": 5,
     "metadata": {},
     "output_type": "execute_result"
    }
   ],
   "source": [
    "cfg.dataset.modality_config"
   ]
  },
  {
   "cell_type": "code",
   "execution_count": 6,
   "metadata": {},
   "outputs": [],
   "source": [
    "from experanto.datasets import ChunkDataset"
   ]
  },
  {
   "cell_type": "code",
   "execution_count": 7,
   "metadata": {},
   "outputs": [
    {
     "name": "stdout",
     "output_type": "stream",
     "text": [
      "modality: responses, filter: nan_filter\n",
      "Interval Statistics, Total Duration: 7662.153s):\n",
      "  Valid Intervals (1):\n",
      "    - Total Duration: 7662.153s (100.00%)\n",
      "    - Mean Duration:  7662.153s\n",
      "    - Std Dev:        0.000s\n",
      "  Invalid Intervals (0):\n",
      "    - Total Duration: 0.000s (0.00%)\n",
      "    - Mean Duration:  0.000s\n",
      "    - Std Dev:        0.000s\n",
      "\n",
      "modality: eye_tracker, filter: nan_filter\n",
      "Interval Statistics, Total Duration: 7662.153s):\n",
      "  Valid Intervals (160):\n",
      "    - Total Duration: 7634.153s (99.63%)\n",
      "    - Mean Duration:  47.713s\n",
      "    - Std Dev:        112.273s\n",
      "  Invalid Intervals (159):\n",
      "    - Total Duration: 28.000s (0.37%)\n",
      "    - Mean Duration:  0.176s\n",
      "    - Std Dev:        0.125s\n",
      "\n",
      "modality: treadmill, filter: nan_filter\n",
      "Interval Statistics, Total Duration: 7662.153s):\n",
      "  Valid Intervals (1):\n",
      "    - Total Duration: 7662.153s (100.00%)\n",
      "    - Mean Duration:  7662.153s\n",
      "    - Std Dev:        0.000s\n",
      "  Invalid Intervals (0):\n",
      "    - Total Duration: 0.000s (0.00%)\n",
      "    - Mean Duration:  0.000s\n",
      "    - Std Dev:        0.000s\n",
      "\n",
      "len(sample_mask):  229806\n",
      "sum(sample_mask):  212577\n",
      "len(sample_mask):  229806\n",
      "sum(sample_mask):  218058\n",
      "len(self._valid_screen_times_filtered):  212577\n",
      "len(self._valid_screen_times_unfiltered):  218058\n",
      "len(self._valid_screen_times):  5481\n"
     ]
    },
    {
     "name": "stderr",
     "output_type": "stream",
     "text": [
      "/usr/local/lib/python3.10/dist-packages/torchvision/transforms/v2/_deprecated.py:42: UserWarning: The transform `ToTensor()` is deprecated and will be removed in a future release. Instead, please use `v2.Compose([v2.ToImage(), v2.ToDtype(torch.float32, scale=True)])`.Output is equivalent up to float precision.\n",
      "  warnings.warn(\n"
     ]
    }
   ],
   "source": [
    "dataset = ChunkDataset(data_path, global_sampling_rate=cfg.dataset.global_sampling_rate, global_chunk_size=cfg.dataset.global_chunk_size, modality_config=cfg.dataset.modality_config)"
   ]
  },
  {
   "cell_type": "code",
   "execution_count": 11,
   "metadata": {},
   "outputs": [
    {
     "name": "stdout",
     "output_type": "stream",
     "text": [
      "5481\n"
     ]
    }
   ],
   "source": [
    "print(len(dataset))"
   ]
  },
  {
   "cell_type": "code",
   "execution_count": 28,
   "metadata": {},
   "outputs": [],
   "source": [
    "item = dataset[5000]"
   ]
  },
  {
   "cell_type": "code",
   "execution_count": 30,
   "metadata": {},
   "outputs": [
    {
     "data": {
      "text/plain": [
       "tensor(16)"
      ]
     },
     "execution_count": 30,
     "metadata": {},
     "output_type": "execute_result"
    }
   ],
   "source": [
    "item[\"eye_tracker\"].isnan().sum()\n"
   ]
  },
  {
   "cell_type": "code",
   "execution_count": null,
   "metadata": {},
   "outputs": [],
   "source": []
  }
 ],
 "metadata": {
  "kernelspec": {
   "display_name": "Python 3 (ipykernel)",
   "language": "python",
   "name": "python3"
  },
  "language_info": {
   "codemirror_mode": {
    "name": "ipython",
    "version": 3
   },
   "file_extension": ".py",
   "mimetype": "text/x-python",
   "name": "python",
   "nbconvert_exporter": "python",
   "pygments_lexer": "ipython3",
   "version": "3.10.12"
  }
 },
 "nbformat": 4,
 "nbformat_minor": 2
}
