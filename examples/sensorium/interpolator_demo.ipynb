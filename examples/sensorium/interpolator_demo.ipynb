{
 "cells": [
  {
   "cell_type": "code",
   "execution_count": null,
   "metadata": {},
   "outputs": [],
   "source": [
    "%load_ext autoreload\n",
    "%autoreload 2"
   ]
  },
  {
   "cell_type": "code",
   "execution_count": null,
   "metadata": {},
   "outputs": [],
   "source": [
    "import sys\n",
    "sys.path.append('..')\n",
    "from experanto.interpolators import SequenceInterpolator\n",
    "\n",
    "import numpy as np\n"
   ]
  },
  {
   "cell_type": "markdown",
   "metadata": {},
   "source": [
    "# Test the sequence interpolator on eye tracking data"
   ]
  },
  {
   "cell_type": "code",
   "execution_count": null,
   "metadata": {},
   "outputs": [],
   "source": [
    "si = SequenceInterpolator('../tests/sequence_data')"
   ]
  },
  {
   "cell_type": "code",
   "execution_count": null,
   "metadata": {},
   "outputs": [],
   "source": [
    "import yaml\n",
    "meta = dict(\n",
    "    modality='time_series',\n",
    "    start_time=float(si.timestamps[0]),\n",
    "    end_time=float(si.timestamps[-1]),\n",
    "    time_delta=float((si.timestamps[-1] - si.timestamps[0])/(len(si.timestamps)-1)),\n",
    "    phase_shift_per_signal=False,\n",
    ")\n",
    "\n",
    "with open('/Users/fabee/Data/sinzlab-data/dataset0/eye_tracker/meta.yml', 'w') as f:\n",
    "    yaml.dump(meta, f)"
   ]
  },
  {
   "cell_type": "markdown",
   "metadata": {},
   "source": [
    "Load 1000 timestamps that should return the first 1000 samples and time it. "
   ]
  },
  {
   "cell_type": "code",
   "execution_count": null,
   "metadata": {},
   "outputs": [],
   "source": [
    "n = 1000\n",
    "times = np.arange(si.start_time + si.time_delta* 0.3, n * si.time_delta + si.start_time, si.time_delta)\n",
    "%timeit signal, valid = si.interpolate(times)"
   ]
  },
  {
   "cell_type": "markdown",
   "metadata": {},
   "source": [
    "Make sure the correct samples are returned"
   ]
  },
  {
   "cell_type": "code",
   "execution_count": null,
   "metadata": {},
   "outputs": [],
   "source": [
    "n = 10\n",
    "times = np.arange(si.start_time + si.time_delta* 0.3, n * si.time_delta + si.start_time, si.time_delta)\n",
    "signal, valid = si.interpolate(times)\n",
    "assert np.nanmin(np.abs(si._data[:n] - signal)) < 1e-6"
   ]
  },
  {
   "cell_type": "markdown",
   "metadata": {},
   "source": []
  },
  {
   "cell_type": "markdown",
   "metadata": {},
   "source": [
    "Make sure that it also returns the correct valid index and shape"
   ]
  },
  {
   "cell_type": "code",
   "execution_count": null,
   "metadata": {},
   "outputs": [],
   "source": [
    "n = 10\n",
    "times = np.arange(si.start_time - si.time_delta* 0.7, n * si.time_delta + si.start_time, si.time_delta)\n",
    "signal, valid = si.interpolate(times)\n",
    "valid, valid.shape, signal.shape"
   ]
  },
  {
   "cell_type": "markdown",
   "metadata": {},
   "source": [
    "# Check interpolator for neuron sequences"
   ]
  },
  {
   "cell_type": "code",
   "execution_count": null,
   "metadata": {},
   "outputs": [],
   "source": [
    "neural_responses = SequenceInterpolator('/Users/fabee/Data/sinzlab-data/dataset0/responses')"
   ]
  },
  {
   "cell_type": "code",
   "execution_count": null,
   "metadata": {},
   "outputs": [],
   "source": [
    "neural_responses._data.shape, neural_responses._phase_shifts.shape"
   ]
  },
  {
   "cell_type": "code",
   "execution_count": null,
   "metadata": {},
   "outputs": [],
   "source": [
    "n = 10\n",
    "times = np.arange(neural_responses.start_time + neural_responses.time_delta* 0.0, \n",
    "                  n * neural_responses.time_delta + neural_responses.start_time, \n",
    "                  neural_responses.time_delta)\n",
    "signal, valid = neural_responses.interpolate(times)\n",
    "valid, valid.shape, signal.shape"
   ]
  },
  {
   "cell_type": "code",
   "execution_count": null,
   "metadata": {},
   "outputs": [],
   "source": [
    "np.max(neural_responses._phase_shifts)"
   ]
  },
  {
   "cell_type": "code",
   "execution_count": null,
   "metadata": {},
   "outputs": [],
   "source": []
  }
 ],
 "metadata": {
  "kernelspec": {
   "display_name": "Python 3",
   "language": "python",
   "name": "python3"
  },
  "language_info": {
   "codemirror_mode": {
    "name": "ipython",
    "version": 3
   },
   "file_extension": ".py",
   "mimetype": "text/x-python",
   "name": "python",
   "nbconvert_exporter": "python",
   "pygments_lexer": "ipython3"
  }
 },
 "nbformat": 4,
 "nbformat_minor": 2
}
