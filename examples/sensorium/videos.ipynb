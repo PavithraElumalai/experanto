{
 "cells": [
  {
   "cell_type": "code",
   "execution_count": null,
   "id": "15ef39fb-1ea6-4b35-ba65-6c6770103025",
   "metadata": {},
   "outputs": [],
   "source": [
    "%load_ext autoreload\n",
    "%autoreload 2\n",
    "\n",
    "import numpy as np\n",
    "import matplotlib.pyplot as plt"
   ]
  },
  {
   "cell_type": "code",
   "execution_count": null,
   "id": "7aaa77e3-d1aa-42a2-8d9e-b91232b515b4",
   "metadata": {},
   "outputs": [],
   "source": [
    "import sys\n",
    "import os\n",
    "\n",
    "p = !pwd\n",
    "p = os.path.dirname(p[0])\n",
    "if p not in sys.path:\n",
    "    sys.path.append(p)\n",
    "\n",
    "from experanto.interpolators import VideoInterpolator"
   ]
  },
  {
   "cell_type": "code",
   "execution_count": null,
   "id": "49453f7d-6d26-4209-9650-94592bf5ca8d",
   "metadata": {},
   "outputs": [],
   "source": [
    "data_path = '/Volumes/datasets/funct_foundational_data/mocked_data/dataset0/screen/0001'\n",
    "vid = VideoInterpolator(data_path)"
   ]
  },
  {
   "cell_type": "code",
   "execution_count": null,
   "id": "e7bf1d79-dcf4-4c97-8320-001bc2f1bbde",
   "metadata": {},
   "outputs": [],
   "source": [
    "# Generate some timestamps within a few videos and get those frames\n",
    "vids = [0, 3, 12]\n",
    "frames = [1, 50, 200]\n",
    "t = [vid.timestamps[vid._first_frame_idx[v] + f] + 0.01 for v, f in zip(vids, frames)]\n",
    "x, _ = vid.interpolate(t)"
   ]
  },
  {
   "cell_type": "code",
   "execution_count": null,
   "id": "f222a6fb-5315-4316-8b8e-2db14fabff4f",
   "metadata": {},
   "outputs": [],
   "source": [
    "# Verify it returned the correct frames\n",
    "for i, (v, f) in enumerate(zip(vids, frames)):\n",
    "    fig, ax = plt.subplots(1, 2, figsize=(8, 2))\n",
    "    ax[0].imshow(x[i])\n",
    "    tmp = np.load(vid._video_files[v])\n",
    "    ax[1].imshow(tmp[f])"
   ]
  }
 ],
 "metadata": {
  "kernelspec": {
   "display_name": "Python 3 (ipykernel)",
   "language": "python",
   "name": "python3"
  },
  "language_info": {
   "codemirror_mode": {
    "name": "ipython",
    "version": 3
   },
   "file_extension": ".py",
   "mimetype": "text/x-python",
   "name": "python",
   "nbconvert_exporter": "python",
   "pygments_lexer": "ipython3"
  }
 },
 "nbformat": 4,
 "nbformat_minor": 5
}
