{
 "cells": [
  {
   "cell_type": "code",
   "execution_count": null,
   "id": "f924fc48-7018-449f-a051-3674a1a93877",
   "metadata": {},
   "outputs": [],
   "source": [
    "%load_ext autoreload\n",
    "%autoreload 2\n",
    "%matplotlib inline\n",
    "\n",
    "import numpy as np\n",
    "import matplotlib.pyplot as plt\n",
    "import matplotlib.animation as animation\n",
    "from pathlib import Path\n",
    "from IPython.display import HTML"
   ]
  },
  {
   "cell_type": "code",
   "execution_count": null,
   "id": "a01edd60-2778-409e-8ac8-cf2765986676",
   "metadata": {},
   "outputs": [],
   "source": [
    "import sys\n",
    "import os\n",
    "\n",
    "p = !pwd\n",
    "p = os.path.dirname(p[0])\n",
    "if p not in sys.path:\n",
    "    sys.path.append(p)\n",
    "\n",
    "from experanto.experiment import Experiment\n",
    "from experanto.interpolators import Interpolator\n",
    "from experanto.interpolators import ScreenInterpolator"
   ]
  },
  {
   "cell_type": "code",
   "execution_count": null,
   "id": "09169e4a-d07e-40ae-8b4b-c6bff8048f3e",
   "metadata": {},
   "outputs": [],
   "source": [
    "root_folder = '/home/nibecker/datasets/mocked_data/dataset_alex'\n",
    "# root_folder = '/home/nibecker/datasets/dynamic29139-4-6-Video-mew_full'\n",
    "e = Experiment(root_folder)"
   ]
  },
  {
   "cell_type": "code",
   "execution_count": null,
   "id": "89b75054-7dbe-42c7-9a87-141e9c5c943f",
   "metadata": {},
   "outputs": [],
   "source": [
    "e._devices"
   ]
  },
  {
   "cell_type": "code",
   "execution_count": null,
   "id": "5405e3ee-1537-42b7-bd34-15349695d1de",
   "metadata": {},
   "outputs": [],
   "source": [
    "# Show part of the screen\n",
    "times = np.arange(e.start_time, 2500, 20)\n",
    "time_steps = len(times)\n",
    "video, valid = e.interpolate(times, device=\"screen\")\n",
    "\n",
    "fig, ax = plt.subplots()\n",
    "im = ax.imshow(video[0], cmap='gray')\n",
    "\n",
    "def update(frame):\n",
    "    im.set_data(video[frame])\n",
    "    ax.set_title(f'Time step: {frame}')\n",
    "    return [im]\n",
    "    \n",
    "ani = animation.FuncAnimation(fig, update, frames=range(time_steps), repeat=False)\n",
    "HTML(ani.to_jshtml())"
   ]
  },
  {
   "cell_type": "code",
   "execution_count": null,
   "id": "211eda0f-483b-4ef9-b271-28fd64c2d9ff",
   "metadata": {},
   "outputs": [],
   "source": [
    "plt.plot(data[\"running_speed\"], 'o-k')"
   ]
  },
  {
   "cell_type": "code",
   "execution_count": null,
   "id": "0fc8a6cc-6597-4503-b9cc-e977d8e218ad",
   "metadata": {},
   "outputs": [],
   "source": [
    "vid1 = e[b:b+time_steps][\"screen\"]\n",
    "vid2 = e[b:b+time_steps,\"screen\"]\n",
    "np.sum(vid1 - vid2)"
   ]
  },
  {
   "cell_type": "code",
   "execution_count": null,
   "id": "b5f11d30-ce3d-4da7-bfbc-3ced81a85399",
   "metadata": {},
   "outputs": [],
   "source": [
    "b = e.get_sample_index(e._devices[\"screen\"].timestamps[0])\n",
    "data = e[b:b+10]"
   ]
  },
  {
   "cell_type": "code",
   "execution_count": null,
   "id": "36d2cc5c-8005-4793-804a-2cf7321dee96",
   "metadata": {},
   "outputs": [],
   "source": []
  }
 ],
 "metadata": {
  "kernelspec": {
   "display_name": "Python 3",
   "language": "python",
   "name": "python3"
  },
  "language_info": {
   "codemirror_mode": {
    "name": "ipython",
    "version": 3
   },
   "file_extension": ".py",
   "mimetype": "text/x-python",
   "name": "python",
   "nbconvert_exporter": "python",
   "pygments_lexer": "ipython3"
  }
 },
 "nbformat": 4,
 "nbformat_minor": 5
}
