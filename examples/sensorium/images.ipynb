{
 "cells": [
  {
   "cell_type": "code",
   "execution_count": null,
   "id": "15ef39fb-1ea6-4b35-ba65-6c6770103025",
   "metadata": {},
   "outputs": [],
   "source": [
    "%load_ext autoreload\n",
    "%autoreload 2\n",
    "\n",
    "import numpy as np\n",
    "import matplotlib.pyplot as plt"
   ]
  },
  {
   "cell_type": "code",
   "execution_count": null,
   "id": "7aaa77e3-d1aa-42a2-8d9e-b91232b515b4",
   "metadata": {},
   "outputs": [],
   "source": [
    "import sys\n",
    "import os\n",
    "\n",
    "p = !pwd\n",
    "p = os.path.dirname(p[0])\n",
    "if p not in sys.path:\n",
    "    sys.path.append(p)\n",
    "\n",
    "# from experanto.experiment import ImageInterpolator\n",
    "from experanto.interpolators import ImageInterpolator"
   ]
  },
  {
   "cell_type": "code",
   "execution_count": null,
   "id": "49453f7d-6d26-4209-9650-94592bf5ca8d",
   "metadata": {},
   "outputs": [],
   "source": [
    "data_path = '/Volumes/datasets/funct_foundational_data/mocked_data/dataset0/screen/0002'\n",
    "img = ImageInterpolator(data_path)"
   ]
  },
  {
   "cell_type": "code",
   "execution_count": null,
   "id": "e7bf1d79-dcf4-4c97-8320-001bc2f1bbde",
   "metadata": {},
   "outputs": [],
   "source": [
    "t = np.sort(np.concatenate((img.timestamps[:-1] + 0.0001, img.timestamps[:-1] + 0.1)))\n",
    "x, _ = img.interpolate(t)"
   ]
  },
  {
   "cell_type": "code",
   "execution_count": null,
   "id": "f222a6fb-5315-4316-8b8e-2db14fabff4f",
   "metadata": {},
   "outputs": [],
   "source": [
    "plt.imshow(x[2])"
   ]
  },
  {
   "cell_type": "code",
   "execution_count": null,
   "id": "6738427d-bfcf-429a-9890-1f4891fb663f",
   "metadata": {},
   "outputs": [],
   "source": [
    "tmp = np.load(img._image_files[1])\n",
    "plt.imshow(tmp[0])"
   ]
  },
  {
   "cell_type": "code",
   "execution_count": null,
   "id": "78f7f99b-81c7-4c9e-9159-0d7613446518",
   "metadata": {},
   "outputs": [],
   "source": []
  }
 ],
 "metadata": {
  "kernelspec": {
   "display_name": "Python 3 (ipykernel)",
   "language": "python",
   "name": "python3"
  },
  "language_info": {
   "codemirror_mode": {
    "name": "ipython",
    "version": 3
   },
   "file_extension": ".py",
   "mimetype": "text/x-python",
   "name": "python",
   "nbconvert_exporter": "python",
   "pygments_lexer": "ipython3"
  }
 },
 "nbformat": 4,
 "nbformat_minor": 5
}
